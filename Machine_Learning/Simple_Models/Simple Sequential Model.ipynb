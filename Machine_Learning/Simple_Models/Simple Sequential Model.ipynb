{
 "cells": [
  {
   "cell_type": "code",
   "execution_count": 6,
   "metadata": {},
   "outputs": [],
   "source": [
    "import numpy as np\n",
    "import random\n",
    "from random import randint\n",
    "from sklearn.preprocessing import MinMaxScaler\n",
    "\n",
    "#For consusion matrix\n",
    "%matplotlib inline\n",
    "from sklearn.metrics import confusion_matrix\n",
    "import itertools\n",
    "import matplotlib.pyplot as plt\n",
    "\n",
    "import keras\n",
    "from keras import backend as K\n",
    "from keras.models import Sequential\n",
    "from keras.layers import Activation\n",
    "from keras.layers.core import Dense\n",
    "from keras.optimizers import Adam\n",
    "from keras.metrics import categorical_crossentropy\n"
   ]
  },
  {
   "cell_type": "code",
   "execution_count": 2,
   "metadata": {},
   "outputs": [],
   "source": [
    "train_labels = []\n",
    "train_samples = []\n",
    "\n",
    "for i in range(50):\n",
    "    # The 5% of younger individuals who did experience side effects\n",
    "    random_younger = randint(13,64)\n",
    "    train_samples.append(random_younger)\n",
    "    train_labels.append(1)\n",
    "    # The 5% of older individuals who did not experience side effects\n",
    "    random_older = randint(65,100)\n",
    "    train_samples.append(random_older)\n",
    "    train_labels.append(0)\n",
    "\n",
    "for i in range(1000):\n",
    "    # The 95% of younger individuals who did not experience side effects\n",
    "    random_younger = randint(13,64)\n",
    "    train_samples.append(random_younger)\n",
    "    train_labels.append(0)\n",
    "    # The 95% of older individuals who did experience side effects\n",
    "    random_older = randint(65,100)\n",
    "    train_samples.append(random_older)\n",
    "    train_labels.append(1)\n"
   ]
  },
  {
   "cell_type": "code",
   "execution_count": 16,
   "metadata": {},
   "outputs": [],
   "source": [
    "test_labels = []\n",
    "test_samples = []\n",
    "\n",
    "for i in range(10):\n",
    "    # The 5% of younger individuals who did experience side effects\n",
    "    random_younger = randint(13,64)\n",
    "    test_samples.append(random_younger)\n",
    "    test_labels.append(1)\n",
    "    # The 5% of older individuals who did not experience side effects\n",
    "    random_older = randint(65,100)\n",
    "    test_samples.append(random_older)\n",
    "    test_labels.append(0)\n",
    "\n",
    "for i in range(200):\n",
    "    # The 95% of younger individuals who did not experience side effects\n",
    "    random_younger = randint(13,64)\n",
    "    test_samples.append(random_younger)\n",
    "    test_labels.append(0)\n",
    "    # The 95% of older individuals who did experience side effects\n",
    "    random_older = randint(65,100)\n",
    "    test_samples.append(random_older)\n",
    "    test_labels.append(1)"
   ]
  },
  {
   "cell_type": "code",
   "execution_count": 7,
   "metadata": {},
   "outputs": [
    {
     "name": "stdout",
     "output_type": "stream",
     "text": [
      "(89, 13, 37, 92, 87, 43, 14, 65, 92, 90)\n",
      "(1, 0, 0, 1, 1, 0, 0, 1, 1, 1)\n"
     ]
    }
   ],
   "source": [
    "c = list(zip(train_samples, train_labels))\n",
    "random.shuffle(c)\n",
    "train_samples, train_labels = zip(*c)\n",
    "\n",
    "print(train_samples[0:10])\n",
    "print(train_labels[0:10])"
   ]
  },
  {
   "cell_type": "code",
   "execution_count": 17,
   "metadata": {},
   "outputs": [
    {
     "name": "stdout",
     "output_type": "stream",
     "text": [
      "(2100, 1)\n"
     ]
    },
    {
     "name": "stderr",
     "output_type": "stream",
     "text": [
      "/home/ec2-user/anaconda3/envs/tensorflow_p36/lib/python3.6/site-packages/sklearn/utils/validation.py:475: DataConversionWarning: Data with input dtype int64 was converted to float64 by MinMaxScaler.\n",
      "  warnings.warn(msg, DataConversionWarning)\n"
     ]
    }
   ],
   "source": [
    "train_samples = np.array(train_samples)\n",
    "train_labels = np.array(train_labels)\n",
    "\n",
    "scaler = MinMaxScaler(feature_range=(0,1))\n",
    "scaled_train_samples = scaler.fit_transform((train_samples).reshape(-1,1))\n",
    "\n",
    "print(scaled_train_samples.shape)\n"
   ]
  },
  {
   "cell_type": "code",
   "execution_count": 18,
   "metadata": {},
   "outputs": [
    {
     "name": "stdout",
     "output_type": "stream",
     "text": [
      "(420, 1)\n"
     ]
    },
    {
     "name": "stderr",
     "output_type": "stream",
     "text": [
      "/home/ec2-user/anaconda3/envs/tensorflow_p36/lib/python3.6/site-packages/sklearn/utils/validation.py:475: DataConversionWarning: Data with input dtype int64 was converted to float64 by MinMaxScaler.\n",
      "  warnings.warn(msg, DataConversionWarning)\n"
     ]
    }
   ],
   "source": [
    "test_samples = np.array(test_samples)\n",
    "test_labels = np.array(test_labels)\n",
    "\n",
    "scaler = MinMaxScaler(feature_range=(0,1))\n",
    "scaled_test_samples = scaler.fit_transform((test_samples).reshape(-1,1))\n",
    "\n",
    "print(scaled_test_samples.shape)\n",
    "\n"
   ]
  },
  {
   "cell_type": "code",
   "execution_count": 12,
   "metadata": {},
   "outputs": [
    {
     "name": "stdout",
     "output_type": "stream",
     "text": [
      "_________________________________________________________________\n",
      "Layer (type)                 Output Shape              Param #   \n",
      "=================================================================\n",
      "dense_4 (Dense)              (None, 16)                32        \n",
      "_________________________________________________________________\n",
      "dense_5 (Dense)              (None, 32)                544       \n",
      "_________________________________________________________________\n",
      "dense_6 (Dense)              (None, 2)                 66        \n",
      "=================================================================\n",
      "Total params: 642\n",
      "Trainable params: 642\n",
      "Non-trainable params: 0\n",
      "_________________________________________________________________\n"
     ]
    }
   ],
   "source": [
    "model = Sequential([\n",
    "    Dense(16, input_shape=(1,), activation='relu'),\n",
    "    Dense(32, activation='relu'),\n",
    "    Dense(2, activation='softmax')\n",
    " ])\n",
    "\n",
    "model.summary()\n",
    "\n",
    "model.compile(Adam(lr=.0001), loss='sparse_categorical_crossentropy', metrics=['accuracy'])\n"
   ]
  },
  {
   "cell_type": "code",
   "execution_count": 13,
   "metadata": {},
   "outputs": [
    {
     "name": "stdout",
     "output_type": "stream",
     "text": [
      "Train on 1890 samples, validate on 210 samples\n",
      "Epoch 1/20\n",
      " - 2s - loss: 0.6645 - acc: 0.5333 - val_loss: 0.6496 - val_acc: 0.5905\n",
      "Epoch 2/20\n",
      " - 0s - loss: 0.6331 - acc: 0.6196 - val_loss: 0.6206 - val_acc: 0.6762\n",
      "Epoch 3/20\n",
      " - 0s - loss: 0.6009 - acc: 0.6942 - val_loss: 0.5892 - val_acc: 0.7095\n",
      "Epoch 4/20\n",
      " - 0s - loss: 0.5668 - acc: 0.7561 - val_loss: 0.5565 - val_acc: 0.7476\n",
      "Epoch 5/20\n",
      " - 0s - loss: 0.5296 - acc: 0.7947 - val_loss: 0.5214 - val_acc: 0.7619\n",
      "Epoch 6/20\n",
      " - 0s - loss: 0.4926 - acc: 0.8291 - val_loss: 0.4882 - val_acc: 0.7952\n",
      "Epoch 7/20\n",
      " - 0s - loss: 0.4580 - acc: 0.8534 - val_loss: 0.4577 - val_acc: 0.8143\n",
      "Epoch 8/20\n",
      " - 0s - loss: 0.4265 - acc: 0.8757 - val_loss: 0.4306 - val_acc: 0.8476\n",
      "Epoch 9/20\n",
      " - 0s - loss: 0.3985 - acc: 0.8852 - val_loss: 0.4074 - val_acc: 0.8714\n",
      "Epoch 10/20\n",
      " - 0s - loss: 0.3748 - acc: 0.8989 - val_loss: 0.3875 - val_acc: 0.8810\n",
      "Epoch 11/20\n",
      " - 0s - loss: 0.3548 - acc: 0.9085 - val_loss: 0.3715 - val_acc: 0.8810\n",
      "Epoch 12/20\n",
      " - 0s - loss: 0.3386 - acc: 0.9138 - val_loss: 0.3592 - val_acc: 0.8857\n",
      "Epoch 13/20\n",
      " - 0s - loss: 0.3257 - acc: 0.9190 - val_loss: 0.3488 - val_acc: 0.8857\n",
      "Epoch 14/20\n",
      " - 0s - loss: 0.3150 - acc: 0.9228 - val_loss: 0.3407 - val_acc: 0.8857\n",
      "Epoch 15/20\n",
      " - 0s - loss: 0.3063 - acc: 0.9238 - val_loss: 0.3340 - val_acc: 0.9095\n",
      "Epoch 16/20\n",
      " - 0s - loss: 0.2994 - acc: 0.9265 - val_loss: 0.3287 - val_acc: 0.9095\n",
      "Epoch 17/20\n",
      " - 0s - loss: 0.2937 - acc: 0.9312 - val_loss: 0.3247 - val_acc: 0.9095\n",
      "Epoch 18/20\n",
      " - 0s - loss: 0.2892 - acc: 0.9328 - val_loss: 0.3213 - val_acc: 0.9095\n",
      "Epoch 19/20\n",
      " - 0s - loss: 0.2854 - acc: 0.9344 - val_loss: 0.3185 - val_acc: 0.9238\n",
      "Epoch 20/20\n",
      " - 0s - loss: 0.2823 - acc: 0.9280 - val_loss: 0.3164 - val_acc: 0.9238\n"
     ]
    },
    {
     "data": {
      "text/plain": [
       "<keras.callbacks.History at 0x7f4d6ef469b0>"
      ]
     },
     "execution_count": 13,
     "metadata": {},
     "output_type": "execute_result"
    }
   ],
   "source": [
    "model.fit(scaled_train_samples, train_labels, validation_split=0.1, batch_size=10, epochs=20, shuffle=True, verbose=2)"
   ]
  },
  {
   "cell_type": "code",
   "execution_count": 19,
   "metadata": {},
   "outputs": [],
   "source": [
    "predictions = model.predict(scaled_test_samples, batch_size=10, verbose=0) \n",
    "\n",
    "rounded_predictions = model.predict_classes(scaled_test_samples, batch_size=10, verbose=0) "
   ]
  },
  {
   "cell_type": "code",
   "execution_count": 22,
   "metadata": {},
   "outputs": [],
   "source": [
    "def plot_confusion_matrix(cm, classes, normalize=False, title='Confusion matrix', cmap=plt.cm.Blues):\n",
    "    \"\"\"\n",
    "    This function prints and plots the confusion matrix.\n",
    "    Normalization can be applied by setting `normalize=True`.\n",
    "    \"\"\"\n",
    "    plt.imshow(cm, interpolation='nearest', cmap=cmap)\n",
    "    plt.title(title)\n",
    "    plt.colorbar()\n",
    "    tick_marks = np.arange(len(classes))\n",
    "    plt.xticks(tick_marks, classes, rotation=45)\n",
    "    plt.yticks(tick_marks, classes)\n",
    "\n",
    "    if normalize:\n",
    "        cm = cm.astype('float') / cm.sum(axis=1)[:, np.newaxis]\n",
    "        print(\"Normalized confusion matrix\")\n",
    "    else:\n",
    "        print('Confusion matrix, without normalization')\n",
    "        print(cm)\n",
    "\n",
    "    thresh = cm.max() / 2.\n",
    "    for i, j in itertools.product(range(cm.shape[0]), range(cm.shape[1])):\n",
    "        plt.text(j, i, cm[i, j],\n",
    "        horizontalalignment=\"center\",\n",
    "        color=\"white\" if cm[i, j] > thresh else \"black\")\n",
    "\n",
    "    plt.tight_layout()\n",
    "    plt.ylabel('True label')\n",
    "    plt.xlabel('Predicted label')\n"
   ]
  },
  {
   "cell_type": "code",
   "execution_count": 23,
   "metadata": {},
   "outputs": [
    {
     "name": "stdout",
     "output_type": "stream",
     "text": [
      "Confusion matrix, without normalization\n",
      "[[193  17]\n",
      " [  9 201]]\n"
     ]
    },
    {
     "data": {
      "image/png": "[encoded data removed]",
      "text/plain": [
       "<Figure size 432x288 with 2 Axes>"
      ]
     },
     "metadata": {},
     "output_type": "display_data"
    }
   ],
   "source": [
    "cm = confusion_matrix(test_labels, rounded_predictions)\n",
    "\n",
    "cm_plot_labels = ['no_side_effects','had_side_effects']\n",
    "plot_confusion_matrix(cm, cm_plot_labels, title='Confusion Matrix')"
   ]
  },
  {
   "cell_type": "code",
   "execution_count": 24,
   "metadata": {},
   "outputs": [],
   "source": [
    "model.save('medical_trial_model.h5')\n",
    "\n",
    "from keras.models import load_model\n",
    "new_model = load_model('medical_trial_model.h5')\n"
   ]
  },
  {
   "cell_type": "code",
   "execution_count": 25,
   "metadata": {},
   "outputs": [
    {
     "name": "stdout",
     "output_type": "stream",
     "text": [
      "_________________________________________________________________\n",
      "Layer (type)                 Output Shape              Param #   \n",
      "=================================================================\n",
      "dense_4 (Dense)              (None, 16)                32        \n",
      "_________________________________________________________________\n",
      "dense_5 (Dense)              (None, 32)                544       \n",
      "_________________________________________________________________\n",
      "dense_6 (Dense)              (None, 2)                 66        \n",
      "=================================================================\n",
      "Total params: 642\n",
      "Trainable params: 642\n",
      "Non-trainable params: 0\n",
      "_________________________________________________________________\n",
      "None\n",
      "[array([[ 0.36692318, -0.07317501, -0.59216505, -0.13377199,  0.65797716,\n",
      "         0.5218953 ,  0.4467949 , -0.4909857 , -0.15024012,  0.42521596,\n",
      "        -0.2724829 ,  0.30628005,  0.68618435, -0.12534034, -0.39107996,\n",
      "        -0.4271949 ]], dtype=float32), array([-0.0923755 ,  0.16708413,  0.        ,  0.        , -0.10261673,\n",
      "        0.14038037, -0.09852852,  0.        ,  0.        , -0.1059678 ,\n",
      "        0.        , -0.09149735, -0.10032047,  0.        ,  0.        ,\n",
      "        0.        ], dtype=float32), array([[ 0.13891323, -0.4946798 ,  0.30625537, -0.32574663, -0.422174  ,\n",
      "        -0.21459714, -0.42179394,  0.19279234, -0.25279424, -0.3059938 ,\n",
      "        -0.4102667 ,  0.11425444, -0.4138347 , -0.4507566 ,  0.11694478,\n",
      "        -0.23809561,  0.1621239 , -0.19498895,  0.10685421,  0.25463557,\n",
      "         0.45403913,  0.3678179 ,  0.1854498 , -0.24768277, -0.32389975,\n",
      "         0.44942653, -0.02257031,  0.05753145,  0.26018232,  0.2756159 ,\n",
      "        -0.18475597,  0.2502582 ],\n",
      "       [-0.15764982,  0.43621945, -0.00266152,  0.04630661,  0.44359335,\n",
      "         0.4382764 ,  0.44583532,  0.44692042,  0.3071841 ,  0.22418986,\n",
      "         0.19980258, -0.3936887 ,  0.30680773,  0.3718759 , -0.3063187 ,\n",
      "         0.2980181 , -0.15257758,  0.49557236, -0.24898714,  0.19519782,\n",
      "        -0.05590262, -0.41149965,  0.49046576,  0.54493403,  0.37240663,\n",
      "         0.05887914,  0.49506542,  0.27987242,  0.01341422, -0.2977508 ,\n",
      "        -0.30538017, -0.05312366],\n",
      "       [-0.07531574, -0.10113591, -0.1403238 , -0.09289628,  0.14598656,\n",
      "        -0.01988286, -0.10549381, -0.34209645, -0.19733508, -0.29549298,\n",
      "        -0.10054341, -0.31010917,  0.3200812 ,  0.09547693,  0.02133852,\n",
      "         0.07708928,  0.31680557,  0.14788672,  0.08871457,  0.17572692,\n",
      "         0.336098  , -0.29068857,  0.28159162,  0.12707949, -0.169087  ,\n",
      "        -0.0746499 , -0.15079291, -0.32151663,  0.0177815 ,  0.14423847,\n",
      "         0.03819972,  0.06342131],\n",
      "       [ 0.08433315, -0.17003177, -0.08353689, -0.07545221,  0.07186165,\n",
      "        -0.05006194, -0.02253458,  0.07161981, -0.32095778, -0.08648583,\n",
      "         0.2598047 , -0.28587002, -0.17841224, -0.3422437 , -0.19867316,\n",
      "        -0.02219436,  0.2767795 , -0.33402786, -0.06928891,  0.13476935,\n",
      "        -0.11837651, -0.0299713 , -0.17394097, -0.08149785, -0.03941235,\n",
      "        -0.07955328, -0.02376679, -0.11966383, -0.26565394,  0.10632765,\n",
      "         0.15610746,  0.01184824],\n",
      "       [ 0.05171892, -0.24226195,  0.21900818,  0.19991496, -0.02213571,\n",
      "        -0.12910591,  0.12781143, -0.2759759 ,  0.14056636, -0.06108404,\n",
      "         0.14790326,  0.3550501 , -0.33774498,  0.09885088,  0.30451897,\n",
      "        -0.45673054, -0.1697123 , -0.19803904,  0.3185191 ,  0.3077448 ,\n",
      "         0.44241032, -0.11714352, -0.05783606, -0.14991954, -0.13601393,\n",
      "         0.35256168, -0.02368717, -0.33771962,  0.4852778 , -0.23394537,\n",
      "        -0.07015696, -0.02750697],\n",
      "       [-0.05858895,  0.20592594,  0.13416322, -0.14184366,  0.2647933 ,\n",
      "         0.25727063,  0.2705685 , -0.03744496, -0.23150937,  0.24528755,\n",
      "         0.07854289,  0.06764795,  0.04601872, -0.02073289,  0.02179022,\n",
      "         0.29842913, -0.23911905,  0.11525659,  0.10910492,  0.11400475,\n",
      "         0.35412297,  0.2554476 , -0.1529529 ,  0.11915176,  0.2205934 ,\n",
      "         0.05644013, -0.1615267 , -0.3485038 ,  0.13706625, -0.05269393,\n",
      "         0.10158903,  0.2192662 ],\n",
      "       [ 0.00290047, -0.09907757,  0.32264683,  0.19795229, -0.14108908,\n",
      "        -0.17818749, -0.37260166, -0.26172447, -0.38346374, -0.02507445,\n",
      "         0.06943844,  0.55445737,  0.08163521, -0.2806503 ,  0.4154587 ,\n",
      "        -0.1408233 ,  0.3482182 , -0.13319723,  0.48064014,  0.44784027,\n",
      "         0.49283612,  0.1777936 , -0.36636496,  0.082317  , -0.13049045,\n",
      "        -0.02272289, -0.11442156,  0.1477084 ,  0.11780477, -0.09734938,\n",
      "        -0.05331978, -0.03045765],\n",
      "       [-0.20609716,  0.05920789, -0.13249469, -0.11781013, -0.29356763,\n",
      "         0.14731833,  0.2714593 ,  0.13470984,  0.2505512 , -0.20888956,\n",
      "        -0.02345961,  0.07515678,  0.24371657,  0.02846774, -0.06227356,\n",
      "         0.02391985, -0.06699055,  0.32934448,  0.2893966 ,  0.28066006,\n",
      "        -0.17459096, -0.24793768,  0.25742266,  0.3273119 ,  0.3284426 ,\n",
      "         0.0385915 ,  0.23834512, -0.12421376,  0.01382384, -0.27526426,\n",
      "        -0.27410758,  0.03262797],\n",
      "       [ 0.23285839, -0.2752846 ,  0.26978436, -0.1022003 , -0.18770975,\n",
      "        -0.15430105,  0.10415336, -0.14863196,  0.13799098, -0.20237374,\n",
      "        -0.05109295, -0.18184005, -0.10886   ,  0.11479419,  0.18056723,\n",
      "        -0.14861062,  0.24173662, -0.16683517, -0.23389174,  0.02913031,\n",
      "        -0.09093982,  0.12082708, -0.15459514,  0.3174639 , -0.0491803 ,\n",
      "        -0.02465954,  0.11906207,  0.13251036, -0.17562161, -0.23221228,\n",
      "         0.27940425, -0.19341062],\n",
      "       [ 0.00563202,  0.09857096,  0.16254535,  0.2206133 , -0.20494853,\n",
      "        -0.42653984,  0.20602427, -0.19997977,  0.01271332, -0.35713473,\n",
      "         0.05030358,  0.14681518, -0.3417826 , -0.28667578,  0.15641129,\n",
      "        -0.19399427, -0.02525788,  0.12728119, -0.01424945,  0.15461655,\n",
      "         0.48003957,  0.50858355, -0.37511134, -0.08041382, -0.28547317,\n",
      "         0.35870844, -0.24594066,  0.23024867,  0.4926979 ,  0.16255416,\n",
      "        -0.26115775,  0.468724  ],\n",
      "       [-0.04843464, -0.16255052, -0.24852479, -0.3291036 , -0.08932671,\n",
      "         0.07894593,  0.29896638, -0.21970123,  0.2024642 ,  0.00298813,\n",
      "        -0.22538786, -0.16495012, -0.23420835, -0.21766335,  0.17628136,\n",
      "        -0.16846137,  0.1313031 ,  0.26533356, -0.33162254, -0.0038304 ,\n",
      "         0.17946902, -0.11649962, -0.06183651, -0.14100178, -0.09771469,\n",
      "         0.14433071, -0.16804647,  0.14421877,  0.00593412,  0.08600891,\n",
      "        -0.28742516,  0.34629706],\n",
      "       [ 0.10939256, -0.22805436,  0.22094537, -0.13350397, -0.4950005 ,\n",
      "         0.00616486, -0.25070095, -0.38568357, -0.16138576, -0.06331623,\n",
      "        -0.22845004,  0.19600476,  0.17159143, -0.04712477,  0.23326887,\n",
      "        -0.29236594, -0.18727793, -0.39508855,  0.3409512 , -0.1375061 ,\n",
      "         0.30232388,  0.09052119, -0.13897036, -0.51498413, -0.30922645,\n",
      "         0.42989242,  0.13287301,  0.30400938,  0.51321495, -0.26353368,\n",
      "         0.01980337,  0.32709897],\n",
      "       [-0.08769935, -0.07607429,  0.3380557 , -0.0146638 ,  0.20406781,\n",
      "         0.22341727, -0.44930598,  0.06985033,  0.12695548, -0.25052345,\n",
      "        -0.36614668,  0.37558693,  0.0541313 ,  0.21040897,  0.29665715,\n",
      "         0.08127336, -0.15449874, -0.23154658,  0.15530176,  0.27527863,\n",
      "         0.4137032 ,  0.45553717,  0.08434045, -0.2046323 , -0.1042678 ,\n",
      "         0.19336215, -0.19718763,  0.03564595, -0.08975824, -0.01143905,\n",
      "         0.12194508,  0.50003403],\n",
      "       [ 0.05216289, -0.19343439, -0.08278635, -0.09328759, -0.08984461,\n",
      "         0.26089725, -0.32343096,  0.06480423,  0.28712162, -0.15148133,\n",
      "         0.21216962,  0.24412194,  0.11283243,  0.33799985,  0.06510246,\n",
      "         0.16369012,  0.0373432 , -0.35113457,  0.05179983, -0.15555255,\n",
      "        -0.13212278, -0.20883249, -0.31711137,  0.19444332,  0.2988833 ,\n",
      "        -0.08031908, -0.03982708,  0.2663882 ,  0.01582402,  0.2869896 ,\n",
      "         0.34160498, -0.30736205],\n",
      "       [-0.29498342, -0.15143497, -0.25972387, -0.08341444, -0.1692893 ,\n",
      "        -0.00212967, -0.34927338, -0.02099645, -0.29222533,  0.30050138,\n",
      "         0.31425884, -0.022037  ,  0.24138579, -0.08449152, -0.06959835,\n",
      "         0.14854226,  0.17634484, -0.19169684,  0.07789117,  0.05688888,\n",
      "        -0.25991875,  0.34920934, -0.2930445 , -0.20623262,  0.02650288,\n",
      "         0.05295423,  0.02575612, -0.33775836,  0.13432705, -0.24773967,\n",
      "        -0.05288038,  0.26157185],\n",
      "       [-0.25546587,  0.31189105, -0.3222199 , -0.25762194, -0.01760203,\n",
      "         0.32760426, -0.17671566, -0.05538821,  0.17341414,  0.2047278 ,\n",
      "         0.07855642, -0.2329248 , -0.170485  ,  0.12485835,  0.05265725,\n",
      "        -0.2771173 ,  0.19779304,  0.17506483, -0.23871537, -0.3506014 ,\n",
      "        -0.18134254, -0.02981231,  0.19760206,  0.0401296 , -0.26352265,\n",
      "        -0.20413311, -0.24143122, -0.23762375,  0.15192023, -0.21539281,\n",
      "        -0.08159798, -0.00341669]], dtype=float32), array([-0.00122361,  0.12327367, -0.05472494,  0.08625093,  0.09705409,\n",
      "        0.09558154,  0.13548985,  0.20300697,  0.15259105,  0.1499851 ,\n",
      "        0.12981117, -0.06582698,  0.18402816,  0.09723932, -0.04844424,\n",
      "        0.14652815, -0.00051549,  0.1884005 , -0.05513881, -0.07300855,\n",
      "       -0.07735243, -0.06155089,  0.1932111 ,  0.17021129,  0.16904189,\n",
      "       -0.06307106,  0.21336357, -0.00167682, -0.06391879, -0.00054741,\n",
      "       -0.00264691, -0.07972305], dtype=float32), array([[ 0.3999805 , -0.3892168 ],\n",
      "       [ 0.5034469 , -0.05186531],\n",
      "       [-0.06391401,  0.11401535],\n",
      "       [ 0.01363939, -0.24052909],\n",
      "       [ 0.37248886, -0.13394997],\n",
      "       [-0.03132205, -0.3932187 ],\n",
      "       [ 0.6584102 , -0.42945984],\n",
      "       [ 0.6764187 , -0.09161468],\n",
      "       [ 0.54221636, -0.38444108],\n",
      "       [ 0.48932743, -0.70598644],\n",
      "       [ 0.5912149 , -0.52357185],\n",
      "       [ 0.09720392,  0.46950278],\n",
      "       [ 0.538969  , -0.22696805],\n",
      "       [ 0.44079563, -0.17342116],\n",
      "       [-0.4035597 ,  0.42901775],\n",
      "       [ 0.31389305, -0.5477222 ],\n",
      "       [-0.25967285,  0.14989316],\n",
      "       [ 0.5790659 , -0.22295643],\n",
      "       [-0.11706674,  0.5403081 ],\n",
      "       [-0.53253716,  0.22655752],\n",
      "       [-0.12517793,  0.44919282],\n",
      "       [-0.26096165,  0.3158535 ],\n",
      "       [ 0.15640852, -0.5610866 ],\n",
      "       [ 0.36540356, -0.3408244 ],\n",
      "       [ 0.52070385, -0.22546904],\n",
      "       [-0.36875027,  0.32606804],\n",
      "       [ 0.20305331, -0.5738904 ],\n",
      "       [-0.12344604,  0.34136596],\n",
      "       [-0.57040966,  0.01245643],\n",
      "       [-0.1693996 , -0.0145661 ],\n",
      "       [-0.26432645, -0.21884952],\n",
      "       [-0.28669056,  0.11554614]], dtype=float32), array([ 0.09540292, -0.09540292], dtype=float32)]\n",
      "<keras.optimizers.Adam object at 0x7f4d6c410b70>\n"
     ]
    }
   ],
   "source": [
    "print(new_model.summary())\n",
    "print(new_model.get_weights())\n",
    "print(new_model.optimizer)"
   ]
  },
  {
   "cell_type": "code",
   "execution_count": null,
   "metadata": {},
   "outputs": [],
   "source": []
  }
 ],
 "metadata": {
  "kernelspec": {
   "display_name": "Python [conda env:tensorflow_p36]",
   "language": "python",
   "name": "conda-env-tensorflow_p36-py"
  },
  "language_info": {
   "codemirror_mode": {
    "name": "ipython",
    "version": 3
   },
   "file_extension": ".py",
   "mimetype": "text/x-python",
   "name": "python",
   "nbconvert_exporter": "python",
   "pygments_lexer": "ipython3",
   "version": "3.6.5"
  }
 },
 "nbformat": 4,
 "nbformat_minor": 2
}
